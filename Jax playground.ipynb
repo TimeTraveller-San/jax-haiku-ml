{
 "cells": [
  {
   "cell_type": "code",
   "execution_count": 1,
   "metadata": {},
   "outputs": [],
   "source": [
    "import jax\n",
    "import jax.numpy as jnp\n",
    "import numpy as np"
   ]
  },
  {
   "cell_type": "markdown",
   "metadata": {},
   "source": [
    "# Exploring grad"
   ]
  },
  {
   "cell_type": "code",
   "execution_count": 112,
   "metadata": {},
   "outputs": [
    {
     "name": "stdout",
     "output_type": "stream",
     "text": [
      "[ 0.          0.33333334  0.6666667   0.         33.333336   66.66667   ]\n"
     ]
    }
   ],
   "source": [
    "def piece_wise(arr):\n",
    "    error = jnp.where(arr==0, 0, arr**2)\n",
    "    return error.mean()\n",
    "\n",
    "grad_piece_wise = jax.grad(piece_wise)\n",
    "arr = jnp.array([0., 1., 2., 0., 100., 200.])\n",
    "print(grad_piece_wise(arr))"
   ]
  },
  {
   "cell_type": "code",
   "execution_count": 113,
   "metadata": {},
   "outputs": [
    {
     "name": "stdout",
     "output_type": "stream",
     "text": [
      "[ 0.16666667  0.09005038 -0.06935781  0.16666667  0.14371982  0.08119795]\n",
      "[ 1.          0.5403023  -0.41614684  1.          0.8623189   0.48718768]\n"
     ]
    }
   ],
   "source": [
    "def sinx(arr):\n",
    "    error = jnp.sin(arr)\n",
    "    return error.mean()\n",
    "\n",
    "grad_sinx = jax.grad(sinx)\n",
    "arr = jnp.array([0., 1., 2., 0., 100., 200.])\n",
    "print(grad_sinx(arr))\n",
    "print(jnp.cos(arr))"
   ]
  },
  {
   "cell_type": "code",
   "execution_count": 114,
   "metadata": {},
   "outputs": [
    {
     "name": "stdout",
     "output_type": "stream",
     "text": [
      "[ 0.24070115  0.24070115 -0.20196548  0.09822582]\n"
     ]
    }
   ],
   "source": [
    "def loop(arr):\n",
    "    for i in range(10):\n",
    "        arr = sinx(arr)\n",
    "    return arr.mean()\n",
    "\n",
    "grad_loop = jax.grad(loop)\n",
    "arr = jnp.array([0., 0., 10., 20.])\n",
    "print(grad_loop(arr))"
   ]
  },
  {
   "cell_type": "markdown",
   "metadata": {},
   "source": [
    "# Jacobians and hessians\n",
    "`jacfwd` uses forward-mode autodiff and so is better for \"tall\" Jacobian matrices, while `jacrev` uses reverse-mode and so is better for \"wide\" Jacobian matrices (with a grad corresponding to the special case of a Jacobian matrix consisting of a single row)."
   ]
  },
  {
   "cell_type": "code",
   "execution_count": 109,
   "metadata": {},
   "outputs": [],
   "source": [
    "def square(arr):\n",
    "    return jnp.power(arr, 2)\n",
    "\n",
    "jacobian1 = jax.jacfwd(square_sum)\n",
    "jacobian2 = jax.jacrev(square_sum)"
   ]
  },
  {
   "cell_type": "code",
   "execution_count": 110,
   "metadata": {},
   "outputs": [
    {
     "name": "stdout",
     "output_type": "stream",
     "text": [
      "[[2. 0. 0.]\n",
      " [0. 4. 0.]\n",
      " [0. 0. 6.]]\n",
      "[[2. 0. 0.]\n",
      " [0. 4. 0.]\n",
      " [0. 0. 6.]]\n"
     ]
    }
   ],
   "source": [
    "arr = jnp.array([1., 2., 3.])\n",
    "print(jacobian1(arr))\n",
    "print(jacobian2(arr))"
   ]
  },
  {
   "cell_type": "code",
   "execution_count": 115,
   "metadata": {},
   "outputs": [],
   "source": [
    "hess_piece_wise = jax.jacfwd(jax.grad(piece_wise))\n",
    "hess_sinx = jax.jacfwd(jax.grad(sinx))\n",
    "hess_loop = jax.jacfwd(jax.grad(loop))"
   ]
  },
  {
   "cell_type": "code",
   "execution_count": 116,
   "metadata": {},
   "outputs": [
    {
     "name": "stdout",
     "output_type": "stream",
     "text": [
      "[[0.6666667 0.        0.       ]\n",
      " [0.        0.6666667 0.       ]\n",
      " [0.        0.        0.6666667]]\n",
      "[[-0.28049034 -0.         -0.        ]\n",
      " [-0.         -0.30309916 -0.        ]\n",
      " [-0.         -0.         -0.04704   ]]\n",
      "[[-0.10576932  0.02106125  0.05010367]\n",
      " [ 0.02106125 -0.10096754 -0.03859041]\n",
      " [ 0.05010366 -0.03859041 -0.10495693]]\n"
     ]
    }
   ],
   "source": [
    "arr = jnp.array([1., 2., 3.])\n",
    "print(hess_piece_wise(arr))\n",
    "print(hess_sinx(arr))\n",
    "print(hess_loop(arr))"
   ]
  },
  {
   "cell_type": "markdown",
   "metadata": {},
   "source": [
    "# Jit"
   ]
  },
  {
   "cell_type": "code",
   "execution_count": 117,
   "metadata": {},
   "outputs": [],
   "source": [
    "# Just like numba's autojit, simple"
   ]
  },
  {
   "cell_type": "markdown",
   "metadata": {},
   "source": [
    "# Vmap"
   ]
  },
  {
   "cell_type": "code",
   "execution_count": 233,
   "metadata": {},
   "outputs": [],
   "source": [
    "from functools import partial\n",
    "\n",
    "def l2_v1(n, pred, target):\n",
    "    residual = pred-target\n",
    "    return residual**2/n\n",
    "\n",
    "def l2_v2(pred, target):\n",
    "    residual = pred-target\n",
    "    return residual**2\n",
    "\n",
    "pred = jnp.array([2., 3., 4.5])\n",
    "target = jnp.array([1., 2., 3.])\n",
    "\n",
    "loss_v1 = jax.vmap(partial(l2_v1, len(pred)))\n",
    "loss_v2 = jax.vmap(l2_v2)"
   ]
  },
  {
   "cell_type": "code",
   "execution_count": 235,
   "metadata": {},
   "outputs": [
    {
     "name": "stdout",
     "output_type": "stream",
     "text": [
      "1.4166667\n",
      "1.4166666\n"
     ]
    }
   ],
   "source": [
    "print(loss_v1(target, pred).sum())\n",
    "print(loss_v2(target, pred).mean())"
   ]
  },
  {
   "cell_type": "markdown",
   "metadata": {},
   "source": [
    "# Jax's grad, jit, vmap only support `pure functions`\n",
    "What are `pure functions`?\n",
    "They are:\n",
    "1. Not affected by or does not affect global variables.\n",
    "2. Return value only based on given arguments. one-one mapping. Same args must give same output. "
   ]
  },
  {
   "cell_type": "code",
   "execution_count": 245,
   "metadata": {},
   "outputs": [
    {
     "name": "stdout",
     "output_type": "stream",
     "text": [
      "-8.390715\n"
     ]
    }
   ],
   "source": [
    "def weighted_sin_pure(x, w=[10]):\n",
    "    return jnp.sin(x)*w[0]\n",
    "\n",
    "pure = jax.grad(weighted_sin_pure)\n",
    "print(pure(10.))"
   ]
  },
  {
   "cell_type": "code",
   "execution_count": 247,
   "metadata": {},
   "outputs": [
    {
     "name": "stdout",
     "output_type": "stream",
     "text": [
      "-8.390715\n"
     ]
    }
   ],
   "source": [
    "w = []\n",
    "def weighted_sin_impure(x):\n",
    "    global w\n",
    "    w.append(10)\n",
    "    return jnp.sin(x)*w[0]\n",
    "\n",
    "impure = jax.grad(weighted_sin_impure)\n",
    "print(impure(10.))"
   ]
  },
  {
   "cell_type": "markdown",
   "metadata": {},
   "source": [
    "..... I don't think I understand `impure functions` yet. I guess I will deal with them when I get some error."
   ]
  },
  {
   "cell_type": "markdown",
   "metadata": {},
   "source": [
    "# Linear regression"
   ]
  },
  {
   "cell_type": "code",
   "execution_count": 251,
   "metadata": {},
   "outputs": [],
   "source": [
    "X = np.random.rand(10, 2)\n",
    "y = np.random.rand(10)\n",
    "w = np.random.rand()"
   ]
  },
  {
   "cell_type": "code",
   "execution_count": null,
   "metadata": {},
   "outputs": [],
   "source": []
  }
 ],
 "metadata": {
  "kernelspec": {
   "display_name": "Python 3",
   "language": "python",
   "name": "python3"
  },
  "language_info": {
   "codemirror_mode": {
    "name": "ipython",
    "version": 3
   },
   "file_extension": ".py",
   "mimetype": "text/x-python",
   "name": "python",
   "nbconvert_exporter": "python",
   "pygments_lexer": "ipython3",
   "version": "3.7.3"
  }
 },
 "nbformat": 4,
 "nbformat_minor": 2
}
